{
 "cells": [
  {
   "cell_type": "markdown",
   "metadata": {},
   "source": [
    "## Un asteroide se acerca, y viaja a una velocidad de 49 km/s."
   ]
  },
  {
   "cell_type": "code",
   "execution_count": 25,
   "metadata": {},
   "outputs": [
    {
     "name": "stdout",
     "output_type": "stream",
     "text": [
      "PELIGRO EL ASTEROIDE ES DEMASIADO RAPIDO\n"
     ]
    }
   ],
   "source": [
    "velocidad=49\r\n",
    "\r\n",
    "if velocidad > 25:\r\n",
    "    print(\"PELIGRO EL ASTEROIDE ES DEMASIADO RAPIDO\")\r\n",
    "else:\r\n",
    "    print(\"El asteroide no presenta un riesgo\")"
   ]
  },
  {
   "cell_type": "markdown",
   "metadata": {},
   "source": [
    "##  Un asteroide entra en la atmósfera de la Tierra"
   ]
  },
  {
   "cell_type": "code",
   "execution_count": 26,
   "metadata": {},
   "outputs": [
    {
     "name": "stdout",
     "output_type": "stream",
     "text": [
      "No hay ninguna luz\n"
     ]
    }
   ],
   "source": [
    "velocidad=19\r\n",
    "\r\n",
    "if velocidad == 20:\r\n",
    "    print(\"Hay una luz en el cielo\")\r\n",
    "elif velocidad > 20:\r\n",
    "    print(\"Hay una luz en el cielo\")\r\n",
    "else:\r\n",
    "    print(\"No hay ninguna luz\")"
   ]
  },
  {
   "cell_type": "markdown",
   "metadata": {},
   "source": [
    "## Ejercicio: Uso de operadores and y or"
   ]
  },
  {
   "cell_type": "code",
   "execution_count": 27,
   "metadata": {},
   "outputs": [
    {
     "name": "stdout",
     "output_type": "stream",
     "text": [
      "Nada que ver aquí :)\n"
     ]
    }
   ],
   "source": [
    "velocidad=int(input(\"Ingrese la velocidad del asteroide: \"))\r\n",
    "tamaño=int(input(\"Ingrese el tamaño del asteroide: \"))\r\n",
    "\r\n",
    "if (velocidad > 25) and (tamaño > 25):\r\n",
    "    print('¡Alerta, Un asteroide muy peligroso viene hacia la Tierra!')\r\n",
    "elif velocidad >= 20:\r\n",
    "    print('Look up! ¡Hay una luz mágica en el cielo!')\r\n",
    "elif tamaño < 25:\r\n",
    "    print('Nada que ver aquí')\r\n",
    "else:\r\n",
    "    print('Nada que ver aquí')"
   ]
  }
 ],
 "metadata": {
  "kernelspec": {
   "display_name": "Python 3.9.2 64-bit",
   "metadata": {
    "interpreter": {
     "hash": "3e030fa45fe51a1558b78c14cc990669a9e1608f77e058420b5e402f7f042bda"
    }
   },
   "name": "python3"
  },
  "language_info": {
   "codemirror_mode": {
    "name": "ipython",
    "version": 3
   },
   "file_extension": ".py",
   "mimetype": "text/x-python",
   "name": "python",
   "nbconvert_exporter": "python",
   "pygments_lexer": "ipython3",
   "version": "3.9.2"
  },
  "orig_nbformat": 2
 },
 "nbformat": 4,
 "nbformat_minor": 2
}