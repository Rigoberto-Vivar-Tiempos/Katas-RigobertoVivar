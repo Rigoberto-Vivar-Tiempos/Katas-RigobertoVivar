{
 "cells": [
  {
   "cell_type": "markdown",
   "metadata": {},
   "source": [
    "Ejercicio1: Crear y usar listas de Python"
   ]
  },
  {
   "cell_type": "code",
   "execution_count": null,
   "metadata": {},
   "outputs": [],
   "source": [
    "planets = [\"Mercurio\",\"Venus\",\"Tierra\",\"Marte\",\"Júpiter\",\"Saturno\",\"Urano\",\"Neptuno\"]\n",
    "print(planets)"
   ]
  },
  {
   "cell_type": "code",
   "execution_count": null,
   "metadata": {},
   "outputs": [],
   "source": [
    "planets.append(\"Plutón\")\n",
    "print(\"Cantidad de planetas: \",len(planets))\n",
    "print(\"Último planeta: \",planets[-1])"
   ]
  },
  {
   "cell_type": "markdown",
   "metadata": {},
   "source": [
    "Ejercicio 2: Trabajando con datos de una lista"
   ]
  },
  {
   "cell_type": "code",
   "execution_count": null,
   "metadata": {},
   "outputs": [],
   "source": [
    "a = 1\n",
    "planetas = []\n",
    "\n",
    "while(a<=8):\n",
    "    planeta = input(\"Ingrese un planeta: \")\n",
    "    planetas.append(planeta)\n",
    "    a+=1\n",
    "    \n",
    "print(planetas)"
   ]
  },
  {
   "cell_type": "code",
   "execution_count": null,
   "metadata": {},
   "outputs": [],
   "source": [
    "busqueda = input(\"Escriba el nombre de un planeta para buscar: \")\n",
    "busqueda.capitalize()\n",
    "\n",
    "print(busqueda,\"se encuentra en la posición: \",planetas.index(busqueda)+1)"
   ]
  },
  {
   "cell_type": "code",
   "execution_count": null,
   "metadata": {},
   "outputs": [],
   "source": [
    "print(\"Planetas más cercanos al sol a partir de\",busqueda)\n",
    "print(planetas[0:planetas.index(busqueda)])"
   ]
  },
  {
   "cell_type": "code",
   "execution_count": null,
   "metadata": {},
   "outputs": [],
   "source": [
    "print(\"Planetas más lejanos al sol a partir de\",busqueda)\n",
    "print(planetas[planetas.index(busqueda)+1:])"
   ]
  }
 ],
 "metadata": {
  "language_info": {
   "name": "python"
  },
  "orig_nbformat": 4
 },
 "nbformat": 4,
 "nbformat_minor": 2
}
