{
 "cells": [
  {
   "cell_type": "markdown",
   "metadata": {},
   "source": [
    "Ejercicio1 - Utilizar operadores aritméticos"
   ]
  },
  {
   "cell_type": "code",
   "execution_count": null,
   "metadata": {},
   "outputs": [],
   "source": [
    "Tierra=149597870\n",
    "Jupiter=778547200\n",
    "\n",
    "distanciaKM = (Jupiter-Tierra)\n",
    "distanciaM=distanciaKM*0.621\n",
    "\n",
    "print(distanciaM)\n",
    "print(distanciaKM)"
   ]
  },
  {
   "cell_type": "markdown",
   "metadata": {},
   "source": [
    "Ejercicio 2: convierte cadenas en números y usa valores absolutos"
   ]
  },
  {
   "cell_type": "code",
   "execution_count": null,
   "metadata": {},
   "outputs": [],
   "source": [
    "d_planeta1 = input(\"Distancia del sol Planeta 1: \")\n",
    "d_planeta2 = input(\"Distancia del sol Planeta 2: \")"
   ]
  },
  {
   "cell_type": "code",
   "execution_count": null,
   "metadata": {},
   "outputs": [],
   "source": [
    "d_planeta1 = int(d_planeta1)\n",
    "d_planeta2 = int(d_planeta2)"
   ]
  },
  {
   "cell_type": "code",
   "execution_count": null,
   "metadata": {},
   "outputs": [],
   "source": [
    "distanciaFinal = d_planeta2 - d_planeta1\n",
    "distanciaM = distanciaFinal*0.621\n",
    "\n",
    "print(abs(distanciaM))"
   ]
  }
 ],
 "metadata": {
  "language_info": {
   "name": "python"
  },
  "orig_nbformat": 4
 },
 "nbformat": 4,
 "nbformat_minor": 2
}
